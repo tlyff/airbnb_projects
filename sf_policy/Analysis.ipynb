{
 "cells": [
  {
   "cell_type": "code",
   "execution_count": 1,
   "metadata": {},
   "outputs": [],
   "source": [
    "import csv\n",
    "import pandas as pd\n",
    "import re\n",
    "import matplotlib.pyplot as plt\n",
    "import numpy as np\n"
   ]
  },
  {
   "cell_type": "markdown",
   "metadata": {},
   "source": [
    "## Clean the data scraped"
   ]
  },
  {
   "cell_type": "code",
   "execution_count": 2,
   "metadata": {},
   "outputs": [],
   "source": [
    "df_scraped = pd.read_csv(\"combined_csv.csv\")"
   ]
  },
  {
   "cell_type": "code",
   "execution_count": 3,
   "metadata": {},
   "outputs": [
    {
     "data": {
      "text/html": [
       "<div>\n",
       "<style scoped>\n",
       "    .dataframe tbody tr th:only-of-type {\n",
       "        vertical-align: middle;\n",
       "    }\n",
       "\n",
       "    .dataframe tbody tr th {\n",
       "        vertical-align: top;\n",
       "    }\n",
       "\n",
       "    .dataframe thead th {\n",
       "        text-align: right;\n",
       "    }\n",
       "</style>\n",
       "<table border=\"1\" class=\"dataframe\">\n",
       "  <thead>\n",
       "    <tr style=\"text-align: right;\">\n",
       "      <th></th>\n",
       "      <th>Name</th>\n",
       "      <th>Reviewer ID</th>\n",
       "      <th>Member date</th>\n",
       "      <th>Living place</th>\n",
       "      <th>Languages</th>\n",
       "      <th>Job</th>\n",
       "      <th>Verified features</th>\n",
       "      <th>Nb of host coms</th>\n",
       "      <th>Date of host coms</th>\n",
       "      <th>Host coms content</th>\n",
       "      <th>Nb of guest coms</th>\n",
       "      <th>Date of guest coms</th>\n",
       "      <th>Guest coms content</th>\n",
       "    </tr>\n",
       "  </thead>\n",
       "  <tbody>\n",
       "    <tr>\n",
       "      <th>0</th>\n",
       "      <td>Bonjour, je m'appelle Britt</td>\n",
       "      <td>15663434</td>\n",
       "      <td>Membre depuis 2014</td>\n",
       "      <td>Habite à Frederiksberg, Danemark</td>\n",
       "      <td>[]</td>\n",
       "      <td>NaN</td>\n",
       "      <td>['Identité', 'Adresse e-mail', 'Numéro de télé...</td>\n",
       "      <td>8</td>\n",
       "      <td>['avril 2019', 'février 2017', 'février 2017',...</td>\n",
       "      <td>['Nice guests. Thanks for staying with us.', '...</td>\n",
       "      <td>0</td>\n",
       "      <td>[]</td>\n",
       "      <td>[]</td>\n",
       "    </tr>\n",
       "    <tr>\n",
       "      <th>1</th>\n",
       "      <td>Bonjour, je m'appelle Tonia</td>\n",
       "      <td>205753</td>\n",
       "      <td>Membre depuis 2010</td>\n",
       "      <td>Habite à Roseville, Californie</td>\n",
       "      <td>[]</td>\n",
       "      <td>Travail : artist and writer</td>\n",
       "      <td>['Identité', 'Adresse e-mail', 'Numéro de télé...</td>\n",
       "      <td>11</td>\n",
       "      <td>['mai 2018', 'juillet 2015', 'décembre 2014', ...</td>\n",
       "      <td>['Tonia et Randy sont des voyageurs charmants,...</td>\n",
       "      <td>0</td>\n",
       "      <td>[]</td>\n",
       "      <td>[]</td>\n",
       "    </tr>\n",
       "    <tr>\n",
       "      <th>2</th>\n",
       "      <td>Bonjour, je m'appelle Grant</td>\n",
       "      <td>1835118</td>\n",
       "      <td>Membre depuis 2012</td>\n",
       "      <td>Habite à Portland, Oregon</td>\n",
       "      <td>[]</td>\n",
       "      <td>NaN</td>\n",
       "      <td>['Identité', 'Adresse e-mail', 'Numéro de télé...</td>\n",
       "      <td>20</td>\n",
       "      <td>['août 2018', 'novembre 2017', 'novembre 2017'...</td>\n",
       "      <td>['Andrea was a dream guest! Friendly, easy-goi...</td>\n",
       "      <td>0</td>\n",
       "      <td>[]</td>\n",
       "      <td>[]</td>\n",
       "    </tr>\n",
       "    <tr>\n",
       "      <th>3</th>\n",
       "      <td>Bonjour, je m'appelle Walter</td>\n",
       "      <td>29474207</td>\n",
       "      <td>Membre depuis 2015</td>\n",
       "      <td>Habite à Bella Coola, Canada</td>\n",
       "      <td>[]</td>\n",
       "      <td>Travail : Retired</td>\n",
       "      <td>['Adresse e-mail', 'Numéro de téléphone']</td>\n",
       "      <td>De la part des hôtes (2)</td>\n",
       "      <td>['octobre 2019', 'avril 2015']</td>\n",
       "      <td>['Han sido muy buenos huéspedes, son 100% reco...</td>\n",
       "      <td>De la part de voyageurs (60)</td>\n",
       "      <td>['octobre 2019', 'octobre 2019', 'octobre 2019...</td>\n",
       "      <td>['Our second time renting. Love  house, feels ...</td>\n",
       "    </tr>\n",
       "    <tr>\n",
       "      <th>4</th>\n",
       "      <td>Bonjour, je m'appelle Dave</td>\n",
       "      <td>15823439</td>\n",
       "      <td>Membre depuis 2014</td>\n",
       "      <td>Habite à Londres, Royaume-Uni</td>\n",
       "      <td>[]</td>\n",
       "      <td>Travail : Advertising/Graphic Design</td>\n",
       "      <td>['Identité', 'Adresse e-mail', 'Numéro de télé...</td>\n",
       "      <td>1</td>\n",
       "      <td>['janvier 2015']</td>\n",
       "      <td>['Dave was an exemplary guest who arrived afte...</td>\n",
       "      <td>0</td>\n",
       "      <td>[]</td>\n",
       "      <td>[]</td>\n",
       "    </tr>\n",
       "    <tr>\n",
       "      <th>...</th>\n",
       "      <td>...</td>\n",
       "      <td>...</td>\n",
       "      <td>...</td>\n",
       "      <td>...</td>\n",
       "      <td>...</td>\n",
       "      <td>...</td>\n",
       "      <td>...</td>\n",
       "      <td>...</td>\n",
       "      <td>...</td>\n",
       "      <td>...</td>\n",
       "      <td>...</td>\n",
       "      <td>...</td>\n",
       "      <td>...</td>\n",
       "    </tr>\n",
       "    <tr>\n",
       "      <th>17415</th>\n",
       "      <td>Bonjour, je m'appelle Karen</td>\n",
       "      <td>7356827</td>\n",
       "      <td>Membre depuis 2013</td>\n",
       "      <td>Habite à Salt Lake City, Utah</td>\n",
       "      <td>['English']</td>\n",
       "      <td>Travail : Freelance stylist</td>\n",
       "      <td>['Identité', 'Adresse e-mail', 'Numéro de télé...</td>\n",
       "      <td>22</td>\n",
       "      <td>['juillet 2020', 'octobre 2019', 'avril 2019',...</td>\n",
       "      <td>['Karen and her family are excellent guests. C...</td>\n",
       "      <td>0</td>\n",
       "      <td>[]</td>\n",
       "      <td>[]</td>\n",
       "    </tr>\n",
       "    <tr>\n",
       "      <th>17416</th>\n",
       "      <td>Bonjour, je m'appelle Phabian'</td>\n",
       "      <td>1208078</td>\n",
       "      <td>Membre depuis 2011</td>\n",
       "      <td>Habite à Phoenix, Arizona</td>\n",
       "      <td>['English']</td>\n",
       "      <td>Travail : Health &amp; Wellness Management; Life C...</td>\n",
       "      <td>['Identité', 'Adresse e-mail', 'Numéro de télé...</td>\n",
       "      <td>4</td>\n",
       "      <td>['mai 2019', 'décembre 2015', 'août 2013', 'dé...</td>\n",
       "      <td>['Phabien was a great guest.  He\\nwill always ...</td>\n",
       "      <td>0</td>\n",
       "      <td>[]</td>\n",
       "      <td>[]</td>\n",
       "    </tr>\n",
       "    <tr>\n",
       "      <th>17417</th>\n",
       "      <td>Bonjour, je m'appelle Shaley</td>\n",
       "      <td>40869</td>\n",
       "      <td>Membre depuis 2009</td>\n",
       "      <td>Habite à Portland, Oregon</td>\n",
       "      <td>[]</td>\n",
       "      <td>Travail : Scratch N' Sniff Pet Care</td>\n",
       "      <td>['Identité', 'Adresse e-mail', 'Numéro de télé...</td>\n",
       "      <td>16</td>\n",
       "      <td>['avril 2021', 'avril 2021', 'novembre 2020', ...</td>\n",
       "      <td>['It was nice to host Shaley, they were extrem...</td>\n",
       "      <td>0</td>\n",
       "      <td>[]</td>\n",
       "      <td>[]</td>\n",
       "    </tr>\n",
       "    <tr>\n",
       "      <th>17418</th>\n",
       "      <td>Bonjour, je m'appelle Beatrice</td>\n",
       "      <td>2275622</td>\n",
       "      <td>Membre depuis 2012</td>\n",
       "      <td>Habite à Munich, Allemagne</td>\n",
       "      <td>['Deutsch', 'English', 'Français']</td>\n",
       "      <td>NaN</td>\n",
       "      <td>['Identité', 'Adresse e-mail', 'Numéro de télé...</td>\n",
       "      <td>3</td>\n",
       "      <td>['février 2017', 'septembre 2012', 'mai 2012']</td>\n",
       "      <td>['Beatrice und ihre Schwester waren sehr angen...</td>\n",
       "      <td>0</td>\n",
       "      <td>[]</td>\n",
       "      <td>[]</td>\n",
       "    </tr>\n",
       "    <tr>\n",
       "      <th>17419</th>\n",
       "      <td>Bonjour, je m'appelle Theresa</td>\n",
       "      <td>8115247</td>\n",
       "      <td>Membre depuis 2013</td>\n",
       "      <td>Habite à Washington, District of Columbia</td>\n",
       "      <td>[]</td>\n",
       "      <td>NaN</td>\n",
       "      <td>['Identité', 'Adresse e-mail', 'Numéro de télé...</td>\n",
       "      <td>5</td>\n",
       "      <td>['avril 2021', 'septembre 2020', 'octobre 2015...</td>\n",
       "      <td>['Theresa was a great guest!   She and her gro...</td>\n",
       "      <td>0</td>\n",
       "      <td>[]</td>\n",
       "      <td>[]</td>\n",
       "    </tr>\n",
       "  </tbody>\n",
       "</table>\n",
       "<p>17420 rows × 13 columns</p>\n",
       "</div>"
      ],
      "text/plain": [
       "                                 Name  Reviewer ID         Member date  \\\n",
       "0         Bonjour, je m'appelle Britt     15663434  Membre depuis 2014   \n",
       "1         Bonjour, je m'appelle Tonia       205753  Membre depuis 2010   \n",
       "2         Bonjour, je m'appelle Grant      1835118  Membre depuis 2012   \n",
       "3        Bonjour, je m'appelle Walter     29474207  Membre depuis 2015   \n",
       "4          Bonjour, je m'appelle Dave     15823439  Membre depuis 2014   \n",
       "...                               ...          ...                 ...   \n",
       "17415     Bonjour, je m'appelle Karen      7356827  Membre depuis 2013   \n",
       "17416  Bonjour, je m'appelle Phabian'      1208078  Membre depuis 2011   \n",
       "17417    Bonjour, je m'appelle Shaley        40869  Membre depuis 2009   \n",
       "17418  Bonjour, je m'appelle Beatrice      2275622  Membre depuis 2012   \n",
       "17419   Bonjour, je m'appelle Theresa      8115247  Membre depuis 2013   \n",
       "\n",
       "                                    Living place  \\\n",
       "0               Habite à Frederiksberg, Danemark   \n",
       "1                 Habite à Roseville, Californie   \n",
       "2                      Habite à Portland, Oregon   \n",
       "3                   Habite à Bella Coola, Canada   \n",
       "4                  Habite à Londres, Royaume-Uni   \n",
       "...                                          ...   \n",
       "17415              Habite à Salt Lake City, Utah   \n",
       "17416                  Habite à Phoenix, Arizona   \n",
       "17417                  Habite à Portland, Oregon   \n",
       "17418                 Habite à Munich, Allemagne   \n",
       "17419  Habite à Washington, District of Columbia   \n",
       "\n",
       "                                Languages  \\\n",
       "0                                      []   \n",
       "1                                      []   \n",
       "2                                      []   \n",
       "3                                      []   \n",
       "4                                      []   \n",
       "...                                   ...   \n",
       "17415                         ['English']   \n",
       "17416                         ['English']   \n",
       "17417                                  []   \n",
       "17418  ['Deutsch', 'English', 'Français']   \n",
       "17419                                  []   \n",
       "\n",
       "                                                     Job  \\\n",
       "0                                                    NaN   \n",
       "1                            Travail : artist and writer   \n",
       "2                                                    NaN   \n",
       "3                                      Travail : Retired   \n",
       "4                   Travail : Advertising/Graphic Design   \n",
       "...                                                  ...   \n",
       "17415                       Travail : Freelance stylist    \n",
       "17416  Travail : Health & Wellness Management; Life C...   \n",
       "17417                Travail : Scratch N' Sniff Pet Care   \n",
       "17418                                                NaN   \n",
       "17419                                                NaN   \n",
       "\n",
       "                                       Verified features  \\\n",
       "0      ['Identité', 'Adresse e-mail', 'Numéro de télé...   \n",
       "1      ['Identité', 'Adresse e-mail', 'Numéro de télé...   \n",
       "2      ['Identité', 'Adresse e-mail', 'Numéro de télé...   \n",
       "3              ['Adresse e-mail', 'Numéro de téléphone']   \n",
       "4      ['Identité', 'Adresse e-mail', 'Numéro de télé...   \n",
       "...                                                  ...   \n",
       "17415  ['Identité', 'Adresse e-mail', 'Numéro de télé...   \n",
       "17416  ['Identité', 'Adresse e-mail', 'Numéro de télé...   \n",
       "17417  ['Identité', 'Adresse e-mail', 'Numéro de télé...   \n",
       "17418  ['Identité', 'Adresse e-mail', 'Numéro de télé...   \n",
       "17419  ['Identité', 'Adresse e-mail', 'Numéro de télé...   \n",
       "\n",
       "                Nb of host coms  \\\n",
       "0                             8   \n",
       "1                            11   \n",
       "2                            20   \n",
       "3      De la part des hôtes (2)   \n",
       "4                             1   \n",
       "...                         ...   \n",
       "17415                        22   \n",
       "17416                         4   \n",
       "17417                        16   \n",
       "17418                         3   \n",
       "17419                         5   \n",
       "\n",
       "                                       Date of host coms  \\\n",
       "0      ['avril 2019', 'février 2017', 'février 2017',...   \n",
       "1      ['mai 2018', 'juillet 2015', 'décembre 2014', ...   \n",
       "2      ['août 2018', 'novembre 2017', 'novembre 2017'...   \n",
       "3                         ['octobre 2019', 'avril 2015']   \n",
       "4                                       ['janvier 2015']   \n",
       "...                                                  ...   \n",
       "17415  ['juillet 2020', 'octobre 2019', 'avril 2019',...   \n",
       "17416  ['mai 2019', 'décembre 2015', 'août 2013', 'dé...   \n",
       "17417  ['avril 2021', 'avril 2021', 'novembre 2020', ...   \n",
       "17418     ['février 2017', 'septembre 2012', 'mai 2012']   \n",
       "17419  ['avril 2021', 'septembre 2020', 'octobre 2015...   \n",
       "\n",
       "                                       Host coms content  \\\n",
       "0      ['Nice guests. Thanks for staying with us.', '...   \n",
       "1      ['Tonia et Randy sont des voyageurs charmants,...   \n",
       "2      ['Andrea was a dream guest! Friendly, easy-goi...   \n",
       "3      ['Han sido muy buenos huéspedes, son 100% reco...   \n",
       "4      ['Dave was an exemplary guest who arrived afte...   \n",
       "...                                                  ...   \n",
       "17415  ['Karen and her family are excellent guests. C...   \n",
       "17416  ['Phabien was a great guest.  He\\nwill always ...   \n",
       "17417  ['It was nice to host Shaley, they were extrem...   \n",
       "17418  ['Beatrice und ihre Schwester waren sehr angen...   \n",
       "17419  ['Theresa was a great guest!   She and her gro...   \n",
       "\n",
       "                   Nb of guest coms  \\\n",
       "0                                 0   \n",
       "1                                 0   \n",
       "2                                 0   \n",
       "3      De la part de voyageurs (60)   \n",
       "4                                 0   \n",
       "...                             ...   \n",
       "17415                             0   \n",
       "17416                             0   \n",
       "17417                             0   \n",
       "17418                             0   \n",
       "17419                             0   \n",
       "\n",
       "                                      Date of guest coms  \\\n",
       "0                                                     []   \n",
       "1                                                     []   \n",
       "2                                                     []   \n",
       "3      ['octobre 2019', 'octobre 2019', 'octobre 2019...   \n",
       "4                                                     []   \n",
       "...                                                  ...   \n",
       "17415                                                 []   \n",
       "17416                                                 []   \n",
       "17417                                                 []   \n",
       "17418                                                 []   \n",
       "17419                                                 []   \n",
       "\n",
       "                                      Guest coms content  \n",
       "0                                                     []  \n",
       "1                                                     []  \n",
       "2                                                     []  \n",
       "3      ['Our second time renting. Love  house, feels ...  \n",
       "4                                                     []  \n",
       "...                                                  ...  \n",
       "17415                                                 []  \n",
       "17416                                                 []  \n",
       "17417                                                 []  \n",
       "17418                                                 []  \n",
       "17419                                                 []  \n",
       "\n",
       "[17420 rows x 13 columns]"
      ]
     },
     "execution_count": 3,
     "metadata": {},
     "output_type": "execute_result"
    }
   ],
   "source": [
    "df_scraped"
   ]
  },
  {
   "cell_type": "code",
   "execution_count": 4,
   "metadata": {},
   "outputs": [
    {
     "name": "stdout",
     "output_type": "stream",
     "text": [
      "Britt\n"
     ]
    }
   ],
   "source": [
    "name = df_scraped[\"Name\"]\n",
    "my_string=name[0]\n",
    "print(my_string.split(\" m'appelle \",1)[1] )"
   ]
  },
  {
   "cell_type": "code",
   "execution_count": 5,
   "metadata": {
    "scrolled": false
   },
   "outputs": [
    {
     "name": "stderr",
     "output_type": "stream",
     "text": [
      "<ipython-input-5-c0ef9b90a9fb>:7: SettingWithCopyWarning: \n",
      "A value is trying to be set on a copy of a slice from a DataFrame\n",
      "\n",
      "See the caveats in the documentation: https://pandas.pydata.org/pandas-docs/stable/user_guide/indexing.html#returning-a-view-versus-a-copy\n",
      "  name[i]=name[i].split(\" m'appelle \",1)[1]\n"
     ]
    }
   ],
   "source": [
    "# Cleaning name\n",
    "\n",
    "name = df_scraped[\"Name\"]\n",
    "for i in range(len(name)):\n",
    "    if type(name[i])==str:\n",
    "        if len(name[i].split(\" m'appelle \",1))>1:\n",
    "            name[i]=name[i].split(\" m'appelle \",1)[1]"
   ]
  },
  {
   "cell_type": "code",
   "execution_count": 6,
   "metadata": {},
   "outputs": [
    {
     "name": "stderr",
     "output_type": "stream",
     "text": [
      "<ipython-input-6-ac2dfc387fe2>:7: SettingWithCopyWarning: \n",
      "A value is trying to be set on a copy of a slice from a DataFrame\n",
      "\n",
      "See the caveats in the documentation: https://pandas.pydata.org/pandas-docs/stable/user_guide/indexing.html#returning-a-view-versus-a-copy\n",
      "  nb_host_com[i]=int(res[0])\n"
     ]
    }
   ],
   "source": [
    "# Cleaning Nb of hosts coms\n",
    "\n",
    "nb_host_com = df_scraped[\"Nb of host coms\"]\n",
    "for i in range(len(nb_host_com)):\n",
    "    res = re.findall('\\((.*?)\\)',nb_host_com[i])\n",
    "    if len(res)>0:\n",
    "        nb_host_com[i]=int(res[0])"
   ]
  },
  {
   "cell_type": "code",
   "execution_count": 7,
   "metadata": {},
   "outputs": [
    {
     "data": {
      "text/html": [
       "<div>\n",
       "<style scoped>\n",
       "    .dataframe tbody tr th:only-of-type {\n",
       "        vertical-align: middle;\n",
       "    }\n",
       "\n",
       "    .dataframe tbody tr th {\n",
       "        vertical-align: top;\n",
       "    }\n",
       "\n",
       "    .dataframe thead th {\n",
       "        text-align: right;\n",
       "    }\n",
       "</style>\n",
       "<table border=\"1\" class=\"dataframe\">\n",
       "  <thead>\n",
       "    <tr style=\"text-align: right;\">\n",
       "      <th></th>\n",
       "      <th>Name</th>\n",
       "      <th>Reviewer ID</th>\n",
       "      <th>Member date</th>\n",
       "      <th>Living place</th>\n",
       "      <th>Languages</th>\n",
       "      <th>Job</th>\n",
       "      <th>Verified features</th>\n",
       "      <th>Nb of host coms</th>\n",
       "      <th>Date of host coms</th>\n",
       "      <th>Host coms content</th>\n",
       "      <th>Nb of guest coms</th>\n",
       "      <th>Date of guest coms</th>\n",
       "      <th>Guest coms content</th>\n",
       "    </tr>\n",
       "  </thead>\n",
       "  <tbody>\n",
       "    <tr>\n",
       "      <th>0</th>\n",
       "      <td>Britt</td>\n",
       "      <td>15663434</td>\n",
       "      <td>Membre depuis 2014</td>\n",
       "      <td>Habite à Frederiksberg, Danemark</td>\n",
       "      <td>[]</td>\n",
       "      <td>NaN</td>\n",
       "      <td>['Identité', 'Adresse e-mail', 'Numéro de télé...</td>\n",
       "      <td>8</td>\n",
       "      <td>['avril 2019', 'février 2017', 'février 2017',...</td>\n",
       "      <td>['Nice guests. Thanks for staying with us.', '...</td>\n",
       "      <td>0</td>\n",
       "      <td>[]</td>\n",
       "      <td>[]</td>\n",
       "    </tr>\n",
       "    <tr>\n",
       "      <th>1</th>\n",
       "      <td>Tonia</td>\n",
       "      <td>205753</td>\n",
       "      <td>Membre depuis 2010</td>\n",
       "      <td>Habite à Roseville, Californie</td>\n",
       "      <td>[]</td>\n",
       "      <td>Travail : artist and writer</td>\n",
       "      <td>['Identité', 'Adresse e-mail', 'Numéro de télé...</td>\n",
       "      <td>11</td>\n",
       "      <td>['mai 2018', 'juillet 2015', 'décembre 2014', ...</td>\n",
       "      <td>['Tonia et Randy sont des voyageurs charmants,...</td>\n",
       "      <td>0</td>\n",
       "      <td>[]</td>\n",
       "      <td>[]</td>\n",
       "    </tr>\n",
       "    <tr>\n",
       "      <th>2</th>\n",
       "      <td>Grant</td>\n",
       "      <td>1835118</td>\n",
       "      <td>Membre depuis 2012</td>\n",
       "      <td>Habite à Portland, Oregon</td>\n",
       "      <td>[]</td>\n",
       "      <td>NaN</td>\n",
       "      <td>['Identité', 'Adresse e-mail', 'Numéro de télé...</td>\n",
       "      <td>20</td>\n",
       "      <td>['août 2018', 'novembre 2017', 'novembre 2017'...</td>\n",
       "      <td>['Andrea was a dream guest! Friendly, easy-goi...</td>\n",
       "      <td>0</td>\n",
       "      <td>[]</td>\n",
       "      <td>[]</td>\n",
       "    </tr>\n",
       "    <tr>\n",
       "      <th>3</th>\n",
       "      <td>Walter</td>\n",
       "      <td>29474207</td>\n",
       "      <td>Membre depuis 2015</td>\n",
       "      <td>Habite à Bella Coola, Canada</td>\n",
       "      <td>[]</td>\n",
       "      <td>Travail : Retired</td>\n",
       "      <td>['Adresse e-mail', 'Numéro de téléphone']</td>\n",
       "      <td>2</td>\n",
       "      <td>['octobre 2019', 'avril 2015']</td>\n",
       "      <td>['Han sido muy buenos huéspedes, son 100% reco...</td>\n",
       "      <td>De la part de voyageurs (60)</td>\n",
       "      <td>['octobre 2019', 'octobre 2019', 'octobre 2019...</td>\n",
       "      <td>['Our second time renting. Love  house, feels ...</td>\n",
       "    </tr>\n",
       "    <tr>\n",
       "      <th>4</th>\n",
       "      <td>Dave</td>\n",
       "      <td>15823439</td>\n",
       "      <td>Membre depuis 2014</td>\n",
       "      <td>Habite à Londres, Royaume-Uni</td>\n",
       "      <td>[]</td>\n",
       "      <td>Travail : Advertising/Graphic Design</td>\n",
       "      <td>['Identité', 'Adresse e-mail', 'Numéro de télé...</td>\n",
       "      <td>1</td>\n",
       "      <td>['janvier 2015']</td>\n",
       "      <td>['Dave was an exemplary guest who arrived afte...</td>\n",
       "      <td>0</td>\n",
       "      <td>[]</td>\n",
       "      <td>[]</td>\n",
       "    </tr>\n",
       "  </tbody>\n",
       "</table>\n",
       "</div>"
      ],
      "text/plain": [
       "     Name  Reviewer ID         Member date                      Living place  \\\n",
       "0   Britt     15663434  Membre depuis 2014  Habite à Frederiksberg, Danemark   \n",
       "1   Tonia       205753  Membre depuis 2010    Habite à Roseville, Californie   \n",
       "2   Grant      1835118  Membre depuis 2012         Habite à Portland, Oregon   \n",
       "3  Walter     29474207  Membre depuis 2015      Habite à Bella Coola, Canada   \n",
       "4    Dave     15823439  Membre depuis 2014     Habite à Londres, Royaume-Uni   \n",
       "\n",
       "  Languages                                   Job  \\\n",
       "0        []                                   NaN   \n",
       "1        []           Travail : artist and writer   \n",
       "2        []                                   NaN   \n",
       "3        []                     Travail : Retired   \n",
       "4        []  Travail : Advertising/Graphic Design   \n",
       "\n",
       "                                   Verified features Nb of host coms  \\\n",
       "0  ['Identité', 'Adresse e-mail', 'Numéro de télé...               8   \n",
       "1  ['Identité', 'Adresse e-mail', 'Numéro de télé...              11   \n",
       "2  ['Identité', 'Adresse e-mail', 'Numéro de télé...              20   \n",
       "3          ['Adresse e-mail', 'Numéro de téléphone']               2   \n",
       "4  ['Identité', 'Adresse e-mail', 'Numéro de télé...               1   \n",
       "\n",
       "                                   Date of host coms  \\\n",
       "0  ['avril 2019', 'février 2017', 'février 2017',...   \n",
       "1  ['mai 2018', 'juillet 2015', 'décembre 2014', ...   \n",
       "2  ['août 2018', 'novembre 2017', 'novembre 2017'...   \n",
       "3                     ['octobre 2019', 'avril 2015']   \n",
       "4                                   ['janvier 2015']   \n",
       "\n",
       "                                   Host coms content  \\\n",
       "0  ['Nice guests. Thanks for staying with us.', '...   \n",
       "1  ['Tonia et Randy sont des voyageurs charmants,...   \n",
       "2  ['Andrea was a dream guest! Friendly, easy-goi...   \n",
       "3  ['Han sido muy buenos huéspedes, son 100% reco...   \n",
       "4  ['Dave was an exemplary guest who arrived afte...   \n",
       "\n",
       "               Nb of guest coms  \\\n",
       "0                             0   \n",
       "1                             0   \n",
       "2                             0   \n",
       "3  De la part de voyageurs (60)   \n",
       "4                             0   \n",
       "\n",
       "                                  Date of guest coms  \\\n",
       "0                                                 []   \n",
       "1                                                 []   \n",
       "2                                                 []   \n",
       "3  ['octobre 2019', 'octobre 2019', 'octobre 2019...   \n",
       "4                                                 []   \n",
       "\n",
       "                                  Guest coms content  \n",
       "0                                                 []  \n",
       "1                                                 []  \n",
       "2                                                 []  \n",
       "3  ['Our second time renting. Love  house, feels ...  \n",
       "4                                                 []  "
      ]
     },
     "execution_count": 7,
     "metadata": {},
     "output_type": "execute_result"
    }
   ],
   "source": [
    "df_scraped.head()"
   ]
  },
  {
   "cell_type": "code",
   "execution_count": 8,
   "metadata": {},
   "outputs": [
    {
     "name": "stderr",
     "output_type": "stream",
     "text": [
      "<ipython-input-8-19968aeb3dbf>:7: SettingWithCopyWarning: \n",
      "A value is trying to be set on a copy of a slice from a DataFrame\n",
      "\n",
      "See the caveats in the documentation: https://pandas.pydata.org/pandas-docs/stable/user_guide/indexing.html#returning-a-view-versus-a-copy\n",
      "  nb_guest_com[i]=int(res[0])\n"
     ]
    }
   ],
   "source": [
    "# Cleaning Nb of guest coms\n",
    "\n",
    "nb_guest_com = df_scraped[\"Nb of guest coms\"]\n",
    "for i in range(len(nb_host_com)):\n",
    "    res = re.findall('\\((.*?)\\)',nb_guest_com[i])\n",
    "    if len(res)>0:\n",
    "        nb_guest_com[i]=int(res[0])"
   ]
  },
  {
   "cell_type": "code",
   "execution_count": 9,
   "metadata": {},
   "outputs": [
    {
     "name": "stdout",
     "output_type": "stream",
     "text": [
      "Frederiksberg, Danemark\n"
     ]
    }
   ],
   "source": [
    "living_place = df_scraped[\"Living place\"]\n",
    "my_string=living_place[0]\n",
    "print(my_string.split(\" à \",1)[1] )"
   ]
  },
  {
   "cell_type": "code",
   "execution_count": 10,
   "metadata": {},
   "outputs": [
    {
     "name": "stderr",
     "output_type": "stream",
     "text": [
      "<ipython-input-10-d4d05c633e98>:7: SettingWithCopyWarning: \n",
      "A value is trying to be set on a copy of a slice from a DataFrame\n",
      "\n",
      "See the caveats in the documentation: https://pandas.pydata.org/pandas-docs/stable/user_guide/indexing.html#returning-a-view-versus-a-copy\n",
      "  living_place[i]=living_place[i].split(\" à \",1)[1]\n"
     ]
    }
   ],
   "source": [
    "# Cleaning Living place\n",
    "\n",
    "living_place = df_scraped[\"Living place\"]\n",
    "for i in range(len(living_place)):\n",
    "    if type(living_place[i])==str:\n",
    "        if len(living_place[i].split(\" à \",1))>1:\n",
    "            living_place[i]=living_place[i].split(\" à \",1)[1]"
   ]
  },
  {
   "cell_type": "code",
   "execution_count": 11,
   "metadata": {},
   "outputs": [
    {
     "name": "stderr",
     "output_type": "stream",
     "text": [
      "<ipython-input-11-3d156ddf1dd8>:7: SettingWithCopyWarning: \n",
      "A value is trying to be set on a copy of a slice from a DataFrame\n",
      "\n",
      "See the caveats in the documentation: https://pandas.pydata.org/pandas-docs/stable/user_guide/indexing.html#returning-a-view-versus-a-copy\n",
      "  member_date[i]=int(member_date[i].split(\" depuis \",1)[1])\n"
     ]
    }
   ],
   "source": [
    "# Cleaning member date\n",
    "\n",
    "member_date = df_scraped[\"Member date\"]\n",
    "for i in range(len(member_date)):\n",
    "    if type(member_date[i])==str:\n",
    "        if len(member_date[i].split(\" depuis \",1))>1:\n",
    "            member_date[i]=int(member_date[i].split(\" depuis \",1)[1])"
   ]
  },
  {
   "cell_type": "code",
   "execution_count": 12,
   "metadata": {},
   "outputs": [
    {
     "name": "stderr",
     "output_type": "stream",
     "text": [
      "<ipython-input-12-2eb7f0e778a6>:7: SettingWithCopyWarning: \n",
      "A value is trying to be set on a copy of a slice from a DataFrame\n",
      "\n",
      "See the caveats in the documentation: https://pandas.pydata.org/pandas-docs/stable/user_guide/indexing.html#returning-a-view-versus-a-copy\n",
      "  job[i]=job[i].split(\"Travail\\xa0: \",1)[1]\n"
     ]
    }
   ],
   "source": [
    "# Cleaning Job\n",
    "\n",
    "job = df_scraped[\"Job\"]\n",
    "for i in range(len(job)):\n",
    "    if type(job[i])==str:\n",
    "        if len(job[i].split(\"Travail\\xa0: \",1))>1:\n",
    "            job[i]=job[i].split(\"Travail\\xa0: \",1)[1]"
   ]
  },
  {
   "cell_type": "code",
   "execution_count": 13,
   "metadata": {},
   "outputs": [
    {
     "data": {
      "text/html": [
       "<div>\n",
       "<style scoped>\n",
       "    .dataframe tbody tr th:only-of-type {\n",
       "        vertical-align: middle;\n",
       "    }\n",
       "\n",
       "    .dataframe tbody tr th {\n",
       "        vertical-align: top;\n",
       "    }\n",
       "\n",
       "    .dataframe thead th {\n",
       "        text-align: right;\n",
       "    }\n",
       "</style>\n",
       "<table border=\"1\" class=\"dataframe\">\n",
       "  <thead>\n",
       "    <tr style=\"text-align: right;\">\n",
       "      <th></th>\n",
       "      <th>Name</th>\n",
       "      <th>Reviewer ID</th>\n",
       "      <th>Member date</th>\n",
       "      <th>Living place</th>\n",
       "      <th>Languages</th>\n",
       "      <th>Job</th>\n",
       "      <th>Verified features</th>\n",
       "      <th>Nb of host coms</th>\n",
       "      <th>Date of host coms</th>\n",
       "      <th>Host coms content</th>\n",
       "      <th>Nb of guest coms</th>\n",
       "      <th>Date of guest coms</th>\n",
       "      <th>Guest coms content</th>\n",
       "    </tr>\n",
       "  </thead>\n",
       "  <tbody>\n",
       "    <tr>\n",
       "      <th>0</th>\n",
       "      <td>Britt</td>\n",
       "      <td>15663434</td>\n",
       "      <td>2014</td>\n",
       "      <td>Frederiksberg, Danemark</td>\n",
       "      <td>[]</td>\n",
       "      <td>NaN</td>\n",
       "      <td>['Identité', 'Adresse e-mail', 'Numéro de télé...</td>\n",
       "      <td>8</td>\n",
       "      <td>['avril 2019', 'février 2017', 'février 2017',...</td>\n",
       "      <td>['Nice guests. Thanks for staying with us.', '...</td>\n",
       "      <td>0</td>\n",
       "      <td>[]</td>\n",
       "      <td>[]</td>\n",
       "    </tr>\n",
       "    <tr>\n",
       "      <th>1</th>\n",
       "      <td>Tonia</td>\n",
       "      <td>205753</td>\n",
       "      <td>2010</td>\n",
       "      <td>Roseville, Californie</td>\n",
       "      <td>[]</td>\n",
       "      <td>artist and writer</td>\n",
       "      <td>['Identité', 'Adresse e-mail', 'Numéro de télé...</td>\n",
       "      <td>11</td>\n",
       "      <td>['mai 2018', 'juillet 2015', 'décembre 2014', ...</td>\n",
       "      <td>['Tonia et Randy sont des voyageurs charmants,...</td>\n",
       "      <td>0</td>\n",
       "      <td>[]</td>\n",
       "      <td>[]</td>\n",
       "    </tr>\n",
       "    <tr>\n",
       "      <th>2</th>\n",
       "      <td>Grant</td>\n",
       "      <td>1835118</td>\n",
       "      <td>2012</td>\n",
       "      <td>Portland, Oregon</td>\n",
       "      <td>[]</td>\n",
       "      <td>NaN</td>\n",
       "      <td>['Identité', 'Adresse e-mail', 'Numéro de télé...</td>\n",
       "      <td>20</td>\n",
       "      <td>['août 2018', 'novembre 2017', 'novembre 2017'...</td>\n",
       "      <td>['Andrea was a dream guest! Friendly, easy-goi...</td>\n",
       "      <td>0</td>\n",
       "      <td>[]</td>\n",
       "      <td>[]</td>\n",
       "    </tr>\n",
       "    <tr>\n",
       "      <th>3</th>\n",
       "      <td>Walter</td>\n",
       "      <td>29474207</td>\n",
       "      <td>2015</td>\n",
       "      <td>Bella Coola, Canada</td>\n",
       "      <td>[]</td>\n",
       "      <td>Retired</td>\n",
       "      <td>['Adresse e-mail', 'Numéro de téléphone']</td>\n",
       "      <td>2</td>\n",
       "      <td>['octobre 2019', 'avril 2015']</td>\n",
       "      <td>['Han sido muy buenos huéspedes, son 100% reco...</td>\n",
       "      <td>60</td>\n",
       "      <td>['octobre 2019', 'octobre 2019', 'octobre 2019...</td>\n",
       "      <td>['Our second time renting. Love  house, feels ...</td>\n",
       "    </tr>\n",
       "    <tr>\n",
       "      <th>4</th>\n",
       "      <td>Dave</td>\n",
       "      <td>15823439</td>\n",
       "      <td>2014</td>\n",
       "      <td>Londres, Royaume-Uni</td>\n",
       "      <td>[]</td>\n",
       "      <td>Advertising/Graphic Design</td>\n",
       "      <td>['Identité', 'Adresse e-mail', 'Numéro de télé...</td>\n",
       "      <td>1</td>\n",
       "      <td>['janvier 2015']</td>\n",
       "      <td>['Dave was an exemplary guest who arrived afte...</td>\n",
       "      <td>0</td>\n",
       "      <td>[]</td>\n",
       "      <td>[]</td>\n",
       "    </tr>\n",
       "    <tr>\n",
       "      <th>...</th>\n",
       "      <td>...</td>\n",
       "      <td>...</td>\n",
       "      <td>...</td>\n",
       "      <td>...</td>\n",
       "      <td>...</td>\n",
       "      <td>...</td>\n",
       "      <td>...</td>\n",
       "      <td>...</td>\n",
       "      <td>...</td>\n",
       "      <td>...</td>\n",
       "      <td>...</td>\n",
       "      <td>...</td>\n",
       "      <td>...</td>\n",
       "    </tr>\n",
       "    <tr>\n",
       "      <th>17415</th>\n",
       "      <td>Karen</td>\n",
       "      <td>7356827</td>\n",
       "      <td>2013</td>\n",
       "      <td>Salt Lake City, Utah</td>\n",
       "      <td>['English']</td>\n",
       "      <td>Freelance stylist</td>\n",
       "      <td>['Identité', 'Adresse e-mail', 'Numéro de télé...</td>\n",
       "      <td>22</td>\n",
       "      <td>['juillet 2020', 'octobre 2019', 'avril 2019',...</td>\n",
       "      <td>['Karen and her family are excellent guests. C...</td>\n",
       "      <td>0</td>\n",
       "      <td>[]</td>\n",
       "      <td>[]</td>\n",
       "    </tr>\n",
       "    <tr>\n",
       "      <th>17416</th>\n",
       "      <td>Phabian'</td>\n",
       "      <td>1208078</td>\n",
       "      <td>2011</td>\n",
       "      <td>Phoenix, Arizona</td>\n",
       "      <td>['English']</td>\n",
       "      <td>Health &amp; Wellness Management; Life Coach</td>\n",
       "      <td>['Identité', 'Adresse e-mail', 'Numéro de télé...</td>\n",
       "      <td>4</td>\n",
       "      <td>['mai 2019', 'décembre 2015', 'août 2013', 'dé...</td>\n",
       "      <td>['Phabien was a great guest.  He\\nwill always ...</td>\n",
       "      <td>0</td>\n",
       "      <td>[]</td>\n",
       "      <td>[]</td>\n",
       "    </tr>\n",
       "    <tr>\n",
       "      <th>17417</th>\n",
       "      <td>Shaley</td>\n",
       "      <td>40869</td>\n",
       "      <td>2009</td>\n",
       "      <td>Portland, Oregon</td>\n",
       "      <td>[]</td>\n",
       "      <td>Scratch N' Sniff Pet Care</td>\n",
       "      <td>['Identité', 'Adresse e-mail', 'Numéro de télé...</td>\n",
       "      <td>16</td>\n",
       "      <td>['avril 2021', 'avril 2021', 'novembre 2020', ...</td>\n",
       "      <td>['It was nice to host Shaley, they were extrem...</td>\n",
       "      <td>0</td>\n",
       "      <td>[]</td>\n",
       "      <td>[]</td>\n",
       "    </tr>\n",
       "    <tr>\n",
       "      <th>17418</th>\n",
       "      <td>Beatrice</td>\n",
       "      <td>2275622</td>\n",
       "      <td>2012</td>\n",
       "      <td>Munich, Allemagne</td>\n",
       "      <td>['Deutsch', 'English', 'Français']</td>\n",
       "      <td>NaN</td>\n",
       "      <td>['Identité', 'Adresse e-mail', 'Numéro de télé...</td>\n",
       "      <td>3</td>\n",
       "      <td>['février 2017', 'septembre 2012', 'mai 2012']</td>\n",
       "      <td>['Beatrice und ihre Schwester waren sehr angen...</td>\n",
       "      <td>0</td>\n",
       "      <td>[]</td>\n",
       "      <td>[]</td>\n",
       "    </tr>\n",
       "    <tr>\n",
       "      <th>17419</th>\n",
       "      <td>Theresa</td>\n",
       "      <td>8115247</td>\n",
       "      <td>2013</td>\n",
       "      <td>Washington, District of Columbia</td>\n",
       "      <td>[]</td>\n",
       "      <td>NaN</td>\n",
       "      <td>['Identité', 'Adresse e-mail', 'Numéro de télé...</td>\n",
       "      <td>5</td>\n",
       "      <td>['avril 2021', 'septembre 2020', 'octobre 2015...</td>\n",
       "      <td>['Theresa was a great guest!   She and her gro...</td>\n",
       "      <td>0</td>\n",
       "      <td>[]</td>\n",
       "      <td>[]</td>\n",
       "    </tr>\n",
       "  </tbody>\n",
       "</table>\n",
       "<p>17420 rows × 13 columns</p>\n",
       "</div>"
      ],
      "text/plain": [
       "           Name  Reviewer ID Member date                      Living place  \\\n",
       "0         Britt     15663434        2014           Frederiksberg, Danemark   \n",
       "1         Tonia       205753        2010             Roseville, Californie   \n",
       "2         Grant      1835118        2012                  Portland, Oregon   \n",
       "3        Walter     29474207        2015               Bella Coola, Canada   \n",
       "4          Dave     15823439        2014              Londres, Royaume-Uni   \n",
       "...         ...          ...         ...                               ...   \n",
       "17415     Karen      7356827        2013              Salt Lake City, Utah   \n",
       "17416  Phabian'      1208078        2011                  Phoenix, Arizona   \n",
       "17417    Shaley        40869        2009                  Portland, Oregon   \n",
       "17418  Beatrice      2275622        2012                 Munich, Allemagne   \n",
       "17419   Theresa      8115247        2013  Washington, District of Columbia   \n",
       "\n",
       "                                Languages  \\\n",
       "0                                      []   \n",
       "1                                      []   \n",
       "2                                      []   \n",
       "3                                      []   \n",
       "4                                      []   \n",
       "...                                   ...   \n",
       "17415                         ['English']   \n",
       "17416                         ['English']   \n",
       "17417                                  []   \n",
       "17418  ['Deutsch', 'English', 'Français']   \n",
       "17419                                  []   \n",
       "\n",
       "                                            Job  \\\n",
       "0                                           NaN   \n",
       "1                             artist and writer   \n",
       "2                                           NaN   \n",
       "3                                       Retired   \n",
       "4                    Advertising/Graphic Design   \n",
       "...                                         ...   \n",
       "17415                        Freelance stylist    \n",
       "17416  Health & Wellness Management; Life Coach   \n",
       "17417                 Scratch N' Sniff Pet Care   \n",
       "17418                                       NaN   \n",
       "17419                                       NaN   \n",
       "\n",
       "                                       Verified features Nb of host coms  \\\n",
       "0      ['Identité', 'Adresse e-mail', 'Numéro de télé...               8   \n",
       "1      ['Identité', 'Adresse e-mail', 'Numéro de télé...              11   \n",
       "2      ['Identité', 'Adresse e-mail', 'Numéro de télé...              20   \n",
       "3              ['Adresse e-mail', 'Numéro de téléphone']               2   \n",
       "4      ['Identité', 'Adresse e-mail', 'Numéro de télé...               1   \n",
       "...                                                  ...             ...   \n",
       "17415  ['Identité', 'Adresse e-mail', 'Numéro de télé...              22   \n",
       "17416  ['Identité', 'Adresse e-mail', 'Numéro de télé...               4   \n",
       "17417  ['Identité', 'Adresse e-mail', 'Numéro de télé...              16   \n",
       "17418  ['Identité', 'Adresse e-mail', 'Numéro de télé...               3   \n",
       "17419  ['Identité', 'Adresse e-mail', 'Numéro de télé...               5   \n",
       "\n",
       "                                       Date of host coms  \\\n",
       "0      ['avril 2019', 'février 2017', 'février 2017',...   \n",
       "1      ['mai 2018', 'juillet 2015', 'décembre 2014', ...   \n",
       "2      ['août 2018', 'novembre 2017', 'novembre 2017'...   \n",
       "3                         ['octobre 2019', 'avril 2015']   \n",
       "4                                       ['janvier 2015']   \n",
       "...                                                  ...   \n",
       "17415  ['juillet 2020', 'octobre 2019', 'avril 2019',...   \n",
       "17416  ['mai 2019', 'décembre 2015', 'août 2013', 'dé...   \n",
       "17417  ['avril 2021', 'avril 2021', 'novembre 2020', ...   \n",
       "17418     ['février 2017', 'septembre 2012', 'mai 2012']   \n",
       "17419  ['avril 2021', 'septembre 2020', 'octobre 2015...   \n",
       "\n",
       "                                       Host coms content Nb of guest coms  \\\n",
       "0      ['Nice guests. Thanks for staying with us.', '...                0   \n",
       "1      ['Tonia et Randy sont des voyageurs charmants,...                0   \n",
       "2      ['Andrea was a dream guest! Friendly, easy-goi...                0   \n",
       "3      ['Han sido muy buenos huéspedes, son 100% reco...               60   \n",
       "4      ['Dave was an exemplary guest who arrived afte...                0   \n",
       "...                                                  ...              ...   \n",
       "17415  ['Karen and her family are excellent guests. C...                0   \n",
       "17416  ['Phabien was a great guest.  He\\nwill always ...                0   \n",
       "17417  ['It was nice to host Shaley, they were extrem...                0   \n",
       "17418  ['Beatrice und ihre Schwester waren sehr angen...                0   \n",
       "17419  ['Theresa was a great guest!   She and her gro...                0   \n",
       "\n",
       "                                      Date of guest coms  \\\n",
       "0                                                     []   \n",
       "1                                                     []   \n",
       "2                                                     []   \n",
       "3      ['octobre 2019', 'octobre 2019', 'octobre 2019...   \n",
       "4                                                     []   \n",
       "...                                                  ...   \n",
       "17415                                                 []   \n",
       "17416                                                 []   \n",
       "17417                                                 []   \n",
       "17418                                                 []   \n",
       "17419                                                 []   \n",
       "\n",
       "                                      Guest coms content  \n",
       "0                                                     []  \n",
       "1                                                     []  \n",
       "2                                                     []  \n",
       "3      ['Our second time renting. Love  house, feels ...  \n",
       "4                                                     []  \n",
       "...                                                  ...  \n",
       "17415                                                 []  \n",
       "17416                                                 []  \n",
       "17417                                                 []  \n",
       "17418                                                 []  \n",
       "17419                                                 []  \n",
       "\n",
       "[17420 rows x 13 columns]"
      ]
     },
     "execution_count": 13,
     "metadata": {},
     "output_type": "execute_result"
    }
   ],
   "source": [
    "df_scraped"
   ]
  },
  {
   "cell_type": "markdown",
   "metadata": {},
   "source": [
    "## Separating before 2017 and after 2017"
   ]
  },
  {
   "cell_type": "code",
   "execution_count": 14,
   "metadata": {},
   "outputs": [],
   "source": [
    "dtafile = 'Data_SF_2015_2019/Data_SF_2015_2019.dta'\n",
    "df = pd.read_stata(dtafile)"
   ]
  },
  {
   "cell_type": "code",
   "execution_count": 15,
   "metadata": {},
   "outputs": [
    {
     "data": {
      "text/html": [
       "<div>\n",
       "<style scoped>\n",
       "    .dataframe tbody tr th:only-of-type {\n",
       "        vertical-align: middle;\n",
       "    }\n",
       "\n",
       "    .dataframe tbody tr th {\n",
       "        vertical-align: top;\n",
       "    }\n",
       "\n",
       "    .dataframe thead th {\n",
       "        text-align: right;\n",
       "    }\n",
       "</style>\n",
       "<table border=\"1\" class=\"dataframe\">\n",
       "  <thead>\n",
       "    <tr style=\"text-align: right;\">\n",
       "      <th></th>\n",
       "      <th>listing_id</th>\n",
       "      <th>reviewer_id</th>\n",
       "      <th>Review_date</th>\n",
       "      <th>comments</th>\n",
       "      <th>scrap_date</th>\n",
       "      <th>SNAP</th>\n",
       "      <th>host_name</th>\n",
       "      <th>latitude</th>\n",
       "      <th>longitude</th>\n",
       "      <th>number_of_reviews</th>\n",
       "      <th>...</th>\n",
       "      <th>availability_30</th>\n",
       "      <th>availability_60</th>\n",
       "      <th>availability_90</th>\n",
       "      <th>availability_365</th>\n",
       "      <th>first_review</th>\n",
       "      <th>last_review</th>\n",
       "      <th>price</th>\n",
       "      <th>host_has_profile_pic</th>\n",
       "      <th>host_identity_verified</th>\n",
       "      <th>require_guest_phone_verification</th>\n",
       "    </tr>\n",
       "  </thead>\n",
       "  <tbody>\n",
       "    <tr>\n",
       "      <th>0</th>\n",
       "      <td>958</td>\n",
       "      <td>6413536.0</td>\n",
       "      <td>2013-06-09</td>\n",
       "      <td>Great location near Haight Street and close to...</td>\n",
       "      <td>2015-05-04</td>\n",
       "      <td>1.0</td>\n",
       "      <td>Holly</td>\n",
       "      <td>37.76931</td>\n",
       "      <td>-122.433853</td>\n",
       "      <td>32</td>\n",
       "      <td>...</td>\n",
       "      <td>0.0</td>\n",
       "      <td>0.0</td>\n",
       "      <td>8.0</td>\n",
       "      <td>246.0</td>\n",
       "      <td>NaT</td>\n",
       "      <td>NaT</td>\n",
       "      <td>170.0</td>\n",
       "      <td></td>\n",
       "      <td></td>\n",
       "      <td></td>\n",
       "    </tr>\n",
       "    <tr>\n",
       "      <th>1</th>\n",
       "      <td>958</td>\n",
       "      <td>33750.0</td>\n",
       "      <td>2009-11-05</td>\n",
       "      <td>We highly recommend this accomodation and agre...</td>\n",
       "      <td>2015-05-04</td>\n",
       "      <td>1.0</td>\n",
       "      <td>Holly</td>\n",
       "      <td>37.76931</td>\n",
       "      <td>-122.433853</td>\n",
       "      <td>32</td>\n",
       "      <td>...</td>\n",
       "      <td>0.0</td>\n",
       "      <td>0.0</td>\n",
       "      <td>8.0</td>\n",
       "      <td>246.0</td>\n",
       "      <td>NaT</td>\n",
       "      <td>NaT</td>\n",
       "      <td>170.0</td>\n",
       "      <td></td>\n",
       "      <td></td>\n",
       "      <td></td>\n",
       "    </tr>\n",
       "    <tr>\n",
       "      <th>2</th>\n",
       "      <td>958</td>\n",
       "      <td>1197498.0</td>\n",
       "      <td>2014-05-16</td>\n",
       "      <td>Holly's lovely apartment is exactly as adverti...</td>\n",
       "      <td>2015-05-04</td>\n",
       "      <td>1.0</td>\n",
       "      <td>Holly</td>\n",
       "      <td>37.76931</td>\n",
       "      <td>-122.433853</td>\n",
       "      <td>32</td>\n",
       "      <td>...</td>\n",
       "      <td>0.0</td>\n",
       "      <td>0.0</td>\n",
       "      <td>8.0</td>\n",
       "      <td>246.0</td>\n",
       "      <td>NaT</td>\n",
       "      <td>NaT</td>\n",
       "      <td>170.0</td>\n",
       "      <td></td>\n",
       "      <td></td>\n",
       "      <td></td>\n",
       "    </tr>\n",
       "    <tr>\n",
       "      <th>3</th>\n",
       "      <td>958</td>\n",
       "      <td>5975179.0</td>\n",
       "      <td>2013-06-16</td>\n",
       "      <td>Truly amazing place - great location near Haig...</td>\n",
       "      <td>2015-05-04</td>\n",
       "      <td>1.0</td>\n",
       "      <td>Holly</td>\n",
       "      <td>37.76931</td>\n",
       "      <td>-122.433853</td>\n",
       "      <td>32</td>\n",
       "      <td>...</td>\n",
       "      <td>0.0</td>\n",
       "      <td>0.0</td>\n",
       "      <td>8.0</td>\n",
       "      <td>246.0</td>\n",
       "      <td>NaT</td>\n",
       "      <td>NaT</td>\n",
       "      <td>170.0</td>\n",
       "      <td></td>\n",
       "      <td></td>\n",
       "      <td></td>\n",
       "    </tr>\n",
       "    <tr>\n",
       "      <th>4</th>\n",
       "      <td>958</td>\n",
       "      <td>78623.0</td>\n",
       "      <td>2010-03-13</td>\n",
       "      <td>On top of all that has been said previously, I...</td>\n",
       "      <td>2015-05-04</td>\n",
       "      <td>1.0</td>\n",
       "      <td>Holly</td>\n",
       "      <td>37.76931</td>\n",
       "      <td>-122.433853</td>\n",
       "      <td>32</td>\n",
       "      <td>...</td>\n",
       "      <td>0.0</td>\n",
       "      <td>0.0</td>\n",
       "      <td>8.0</td>\n",
       "      <td>246.0</td>\n",
       "      <td>NaT</td>\n",
       "      <td>NaT</td>\n",
       "      <td>170.0</td>\n",
       "      <td></td>\n",
       "      <td></td>\n",
       "      <td></td>\n",
       "    </tr>\n",
       "  </tbody>\n",
       "</table>\n",
       "<p>5 rows × 45 columns</p>\n",
       "</div>"
      ],
      "text/plain": [
       "   listing_id  reviewer_id Review_date  \\\n",
       "0         958    6413536.0  2013-06-09   \n",
       "1         958      33750.0  2009-11-05   \n",
       "2         958    1197498.0  2014-05-16   \n",
       "3         958    5975179.0  2013-06-16   \n",
       "4         958      78623.0  2010-03-13   \n",
       "\n",
       "                                            comments scrap_date  SNAP  \\\n",
       "0  Great location near Haight Street and close to... 2015-05-04   1.0   \n",
       "1  We highly recommend this accomodation and agre... 2015-05-04   1.0   \n",
       "2  Holly's lovely apartment is exactly as adverti... 2015-05-04   1.0   \n",
       "3  Truly amazing place - great location near Haig... 2015-05-04   1.0   \n",
       "4  On top of all that has been said previously, I... 2015-05-04   1.0   \n",
       "\n",
       "  host_name  latitude   longitude  number_of_reviews  ...  availability_30  \\\n",
       "0     Holly  37.76931 -122.433853                 32  ...              0.0   \n",
       "1     Holly  37.76931 -122.433853                 32  ...              0.0   \n",
       "2     Holly  37.76931 -122.433853                 32  ...              0.0   \n",
       "3     Holly  37.76931 -122.433853                 32  ...              0.0   \n",
       "4     Holly  37.76931 -122.433853                 32  ...              0.0   \n",
       "\n",
       "   availability_60  availability_90  availability_365  first_review  \\\n",
       "0              0.0              8.0             246.0           NaT   \n",
       "1              0.0              8.0             246.0           NaT   \n",
       "2              0.0              8.0             246.0           NaT   \n",
       "3              0.0              8.0             246.0           NaT   \n",
       "4              0.0              8.0             246.0           NaT   \n",
       "\n",
       "   last_review  price host_has_profile_pic host_identity_verified  \\\n",
       "0          NaT  170.0                                               \n",
       "1          NaT  170.0                                               \n",
       "2          NaT  170.0                                               \n",
       "3          NaT  170.0                                               \n",
       "4          NaT  170.0                                               \n",
       "\n",
       "  require_guest_phone_verification  \n",
       "0                                   \n",
       "1                                   \n",
       "2                                   \n",
       "3                                   \n",
       "4                                   \n",
       "\n",
       "[5 rows x 45 columns]"
      ]
     },
     "execution_count": 15,
     "metadata": {},
     "output_type": "execute_result"
    }
   ],
   "source": [
    "df.head()"
   ]
  },
  {
   "cell_type": "code",
   "execution_count": 16,
   "metadata": {},
   "outputs": [],
   "source": [
    "df = df[df['reviewer_id'].notna()]\n",
    "df.reset_index(drop=True, inplace=True)"
   ]
  },
  {
   "cell_type": "markdown",
   "metadata": {},
   "source": [
    "First, we have to differentiate which guests were staying in SF before and after 2017. (6 septembre 2017)"
   ]
  },
  {
   "cell_type": "code",
   "execution_count": 17,
   "metadata": {},
   "outputs": [
    {
     "data": {
      "text/plain": [
       "True"
      ]
     },
     "execution_count": 17,
     "metadata": {},
     "output_type": "execute_result"
    }
   ],
   "source": [
    "df[\"Review_date\"][0]<pd.Timestamp('2017-09-06 00:00:00')"
   ]
  },
  {
   "cell_type": "code",
   "execution_count": 18,
   "metadata": {},
   "outputs": [],
   "source": [
    "# Create two lists with each reviewer that's been to SF before, and after 2017\n",
    "# Warning: For the moment, some reviewers may be counted twice in the lists\n",
    "\n",
    "before = []\n",
    "after = []\n",
    "policy_date = pd.Timestamp('2017-09-06 00:00:00')\n",
    "\n",
    "for i in range(len(df)):\n",
    "    review_date = df[\"Review_date\"][i]\n",
    "    if review_date < policy_date:\n",
    "        before.append(df[\"reviewer_id\"][i])\n",
    "    else:\n",
    "        after.append(df[\"reviewer_id\"][i])"
   ]
  },
  {
   "cell_type": "code",
   "execution_count": 19,
   "metadata": {},
   "outputs": [],
   "source": [
    "# Create two lists with each reviewer that's been to SF before, and after 2017\n",
    "# Warning: For the moment, some reviewers may be counted twice in the lists\n",
    "\n",
    "before = []\n",
    "after = []\n",
    "policy_date = pd.Timestamp('2017-09-06 00:00:00')\n",
    "\n",
    "for i in range(len(df)):\n",
    "    reviewer = df[\"reviewer_id\"][i]\n",
    "    review_date = df[\"Review_date\"][i]\n",
    "    if reviewer in list(df_scraped[\"Reviewer ID\"]):\n",
    "        if review_date < policy_date:\n",
    "            before.append(df[\"reviewer_id\"][i])\n",
    "        else:\n",
    "            after.append(df[\"reviewer_id\"][i])\n"
   ]
  },
  {
   "cell_type": "code",
   "execution_count": 120,
   "metadata": {},
   "outputs": [
    {
     "data": {
      "text/plain": [
       "[214772]"
      ]
     },
     "execution_count": 120,
     "metadata": {},
     "output_type": "execute_result"
    }
   ],
   "source": [
    "df.index[df['reviewer_id'] == 44869407].tolist()"
   ]
  },
  {
   "cell_type": "code",
   "execution_count": 122,
   "metadata": {},
   "outputs": [
    {
     "data": {
      "text/plain": [
       "Timestamp('2017-01-08 00:00:00')"
      ]
     },
     "execution_count": 122,
     "metadata": {},
     "output_type": "execute_result"
    }
   ],
   "source": [
    "df[\"Review_date\"][214772]"
   ]
  },
  {
   "cell_type": "code",
   "execution_count": 20,
   "metadata": {},
   "outputs": [
    {
     "data": {
      "text/plain": [
       "14033"
      ]
     },
     "execution_count": 20,
     "metadata": {},
     "output_type": "execute_result"
    }
   ],
   "source": [
    "len(list(set(before)))"
   ]
  },
  {
   "cell_type": "code",
   "execution_count": 21,
   "metadata": {},
   "outputs": [
    {
     "data": {
      "text/plain": [
       "3128"
      ]
     },
     "execution_count": 21,
     "metadata": {},
     "output_type": "execute_result"
    }
   ],
   "source": [
    "len(list(set(after)))"
   ]
  },
  {
   "cell_type": "markdown",
   "metadata": {},
   "source": [
    "### Adding a binary variable for jobs"
   ]
  },
  {
   "cell_type": "code",
   "execution_count": 22,
   "metadata": {},
   "outputs": [],
   "source": [
    "job_binary = []\n",
    "job = df_scraped[\"Job\"]\n",
    "for i in range(len(job)):\n",
    "    if type(job[i])==float:\n",
    "        job_binary.append(0)\n",
    "    else:\n",
    "        job_binary.append(1)"
   ]
  },
  {
   "cell_type": "code",
   "execution_count": 23,
   "metadata": {},
   "outputs": [],
   "source": [
    "df_scraped[\"Job binary\"] = job_binary"
   ]
  },
  {
   "cell_type": "code",
   "execution_count": 24,
   "metadata": {
    "scrolled": true
   },
   "outputs": [],
   "source": [
    "job_before = []\n",
    "job_after = []\n",
    "\n",
    "reviewer = df_scraped[\"Reviewer ID\"]\n",
    "job = df_scraped[\"Job\"]\n",
    "for i in range(len(reviewer)):\n",
    "    if reviewer[i] in before:\n",
    "        job_before.append(job_binary[i])\n",
    "    if reviewer[i] in after:\n",
    "        job_after.append(job_binary[i])"
   ]
  },
  {
   "cell_type": "code",
   "execution_count": 97,
   "metadata": {},
   "outputs": [
    {
     "data": {
      "image/png": "[encoded data removed]",
      "text/plain": [
       "<Figure size 432x288 with 1 Axes>"
      ]
     },
     "metadata": {},
     "output_type": "display_data"
    }
   ],
   "source": [
    "y = np.array([job_before.count(0), job_before.count(1)])\n",
    "mylabels = [\"Not given\", \"Given\"]\n",
    "\n",
    "plt.pie(y, labels = mylabels)\n",
    "plt.title(\"Percentage of people who gave their job on Airbnb before 2017\")\n",
    "plt.show() "
   ]
  },
  {
   "cell_type": "code",
   "execution_count": 25,
   "metadata": {},
   "outputs": [
    {
     "name": "stdout",
     "output_type": "stream",
     "text": [
      "0.6291612057667103 0.37083879423328964\n"
     ]
    }
   ],
   "source": [
    "print(job_before.count(0)/len(job_before), job_before.count(1)/len(job_before))"
   ]
  },
  {
   "cell_type": "code",
   "execution_count": 26,
   "metadata": {},
   "outputs": [
    {
     "name": "stdout",
     "output_type": "stream",
     "text": [
      "0.7012666048810627 0.29873339511893726\n"
     ]
    }
   ],
   "source": [
    "print(job_after.count(0)/len(job_after), job_after.count(1)/len(job_after))"
   ]
  },
  {
   "cell_type": "code",
   "execution_count": 98,
   "metadata": {},
   "outputs": [
    {
     "data": {
      "image/png": "[encoded data removed]",
      "text/plain": [
       "<Figure size 432x288 with 1 Axes>"
      ]
     },
     "metadata": {},
     "output_type": "display_data"
    }
   ],
   "source": [
    "y = np.array([job_after.count(0), job_after.count(1)])\n",
    "mylabels = [\"Not given\", \"Given\"]\n",
    "\n",
    "plt.pie(y, labels = mylabels)\n",
    "plt.title(\"Percentage of people who gave their job on Airbnb after 2017\")\n",
    "plt.show() "
   ]
  },
  {
   "cell_type": "markdown",
   "metadata": {},
   "source": [
    "### Adding a binary variable for English-speakers"
   ]
  },
  {
   "cell_type": "code",
   "execution_count": 27,
   "metadata": {},
   "outputs": [],
   "source": [
    "english_binary = []\n",
    "lang = df_scraped[\"Languages\"]\n",
    "for i in range(len(lang)):\n",
    "    if 'English' in lang[i]:\n",
    "        english_binary.append(1)\n",
    "    else:\n",
    "        english_binary.append(0)"
   ]
  },
  {
   "cell_type": "code",
   "execution_count": 28,
   "metadata": {},
   "outputs": [],
   "source": [
    "df_scraped[\"English binary\"] = english_binary"
   ]
  },
  {
   "cell_type": "code",
   "execution_count": 29,
   "metadata": {},
   "outputs": [],
   "source": [
    "eng_before = []\n",
    "eng_after = []\n",
    "\n",
    "reviewer = df_scraped[\"Reviewer ID\"]\n",
    "lang = df_scraped[\"Languages\"]\n",
    "for i in range(len(reviewer)):\n",
    "    if reviewer[i] in before:\n",
    "        eng_before.append(english_binary[i])\n",
    "    if reviewer[i] in after:\n",
    "        eng_after.append(english_binary[i])"
   ]
  },
  {
   "cell_type": "code",
   "execution_count": 31,
   "metadata": {},
   "outputs": [
    {
     "name": "stdout",
     "output_type": "stream",
     "text": [
      "0.7028833551769331 0.2971166448230668\n"
     ]
    }
   ],
   "source": [
    "print(eng_before.count(0)/len(eng_before), eng_before.count(1)/len(eng_before))"
   ]
  },
  {
   "cell_type": "code",
   "execution_count": 32,
   "metadata": {},
   "outputs": [
    {
     "name": "stdout",
     "output_type": "stream",
     "text": [
      "0.7358665430954587 0.26413345690454126\n"
     ]
    }
   ],
   "source": [
    "print(eng_after.count(0)/len(eng_after), eng_after.count(1)/len(eng_after))"
   ]
  },
  {
   "cell_type": "code",
   "execution_count": 30,
   "metadata": {},
   "outputs": [
    {
     "data": {
      "image/png": "[encoded data removed]",
      "text/plain": [
       "<Figure size 432x288 with 1 Axes>"
      ]
     },
     "metadata": {},
     "output_type": "display_data"
    }
   ],
   "source": [
    "y = np.array([eng_before.count(0), eng_before.count(1)])\n",
    "mylabels = [\"Not English\", \"English\"]\n",
    "\n",
    "plt.pie(y, labels = mylabels)\n",
    "plt.title(\"Percentage of people who speaks English on Airbnb before 2017\")\n",
    "plt.show() "
   ]
  },
  {
   "cell_type": "code",
   "execution_count": 110,
   "metadata": {},
   "outputs": [
    {
     "data": {
      "image/png": "[encoded data removed]",
      "text/plain": [
       "<Figure size 432x288 with 1 Axes>"
      ]
     },
     "metadata": {},
     "output_type": "display_data"
    }
   ],
   "source": [
    "y = np.array([eng_after.count(0), eng_after.count(1)])\n",
    "mylabels = [\"Not English\", \"English\"]\n",
    "\n",
    "plt.pie(y, labels = mylabels)\n",
    "plt.title(\"Percentage of people who speaks English on Airbnb after 2017\")\n",
    "plt.show() "
   ]
  },
  {
   "cell_type": "markdown",
   "metadata": {},
   "source": [
    "### Counting the number of languages spoken"
   ]
  },
  {
   "cell_type": "code",
   "execution_count": 33,
   "metadata": {},
   "outputs": [],
   "source": [
    "lang_before = []\n",
    "lang_after = []\n",
    "\n",
    "reviewer = df_scraped[\"Reviewer ID\"]\n",
    "lang = df_scraped[\"Languages\"]\n",
    "for i in range(len(reviewer)):\n",
    "    languages = list(lang[i][1:-1].split(','))\n",
    "    if reviewer[i] in before:\n",
    "        lang_before.append(len(languages))\n",
    "    if reviewer[i] in after:\n",
    "        lang_after.append(len(languages))"
   ]
  },
  {
   "cell_type": "code",
   "execution_count": 148,
   "metadata": {},
   "outputs": [
    {
     "data": {
      "text/plain": [
       "1"
      ]
     },
     "execution_count": 148,
     "metadata": {},
     "output_type": "execute_result"
    }
   ],
   "source": [
    "len(list(lang[0][1:-1].split(',')))"
   ]
  },
  {
   "cell_type": "code",
   "execution_count": 34,
   "metadata": {},
   "outputs": [],
   "source": [
    "values, counts = np.unique(lang_before, return_counts=True)"
   ]
  },
  {
   "cell_type": "code",
   "execution_count": 37,
   "metadata": {},
   "outputs": [
    {
     "data": {
      "text/plain": [
       "466"
      ]
     },
     "execution_count": 37,
     "metadata": {},
     "output_type": "execute_result"
    }
   ],
   "source": [
    "sum(counts[3:])"
   ]
  },
  {
   "cell_type": "code",
   "execution_count": 38,
   "metadata": {},
   "outputs": [
    {
     "name": "stdout",
     "output_type": "stream",
     "text": [
      "0.78564875491481 0.1252948885976409 0.05851900393184797 0.03053735255570118\n"
     ]
    }
   ],
   "source": [
    "print(counts[0]/sum(counts), counts[1]/sum(counts), counts[2]/sum(counts), sum(counts[3:])/sum(counts))"
   ]
  },
  {
   "cell_type": "code",
   "execution_count": 161,
   "metadata": {},
   "outputs": [
    {
     "data": {
      "image/png": "[encoded data removed]",
      "text/plain": [
       "<Figure size 432x288 with 1 Axes>"
      ]
     },
     "metadata": {},
     "output_type": "display_data"
    }
   ],
   "source": [
    "y = counts\n",
    "mylabels = [i-1 for i in values]\n",
    "\n",
    "plt.pie(y, labels = mylabels)\n",
    "plt.title(\"Number of languages spoken before 2017\")\n",
    "plt.show() "
   ]
  },
  {
   "cell_type": "code",
   "execution_count": 39,
   "metadata": {},
   "outputs": [],
   "source": [
    "values2, counts2 = np.unique(lang_after, return_counts=True)"
   ]
  },
  {
   "cell_type": "code",
   "execution_count": 41,
   "metadata": {},
   "outputs": [
    {
     "name": "stdout",
     "output_type": "stream",
     "text": [
      "0.8232931726907631 0.10627123880135929 0.04942848316342292 0.02100710534445474\n"
     ]
    }
   ],
   "source": [
    "print(counts2[0]/sum(counts2), counts2[1]/sum(counts2), counts2[2]/sum(counts2), sum(counts2[3:])/sum(counts2))"
   ]
  },
  {
   "cell_type": "code",
   "execution_count": 164,
   "metadata": {},
   "outputs": [
    {
     "data": {
      "image/png": "[encoded data removed]",
      "text/plain": [
       "<Figure size 432x288 with 1 Axes>"
      ]
     },
     "metadata": {},
     "output_type": "display_data"
    }
   ],
   "source": [
    "y = counts\n",
    "mylabels = [i-1 for i in values]\n",
    "\n",
    "plt.pie(y, labels = mylabels)\n",
    "plt.title(\"Number of languages spoken after 2017\")\n",
    "plt.show() "
   ]
  },
  {
   "cell_type": "code",
   "execution_count": null,
   "metadata": {},
   "outputs": [],
   "source": []
  }
 ],
 "metadata": {
  "kernelspec": {
   "display_name": "Python 3",
   "language": "python",
   "name": "python3"
  },
  "language_info": {
   "codemirror_mode": {
    "name": "ipython",
    "version": 3
   },
   "file_extension": ".py",
   "mimetype": "text/x-python",
   "name": "python",
   "nbconvert_exporter": "python",
   "pygments_lexer": "ipython3",
   "version": "3.8.8"
  }
 },
 "nbformat": 4,
 "nbformat_minor": 4
}
